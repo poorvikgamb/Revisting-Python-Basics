{
 "cells": [
  {
   "cell_type": "code",
   "execution_count": 3,
   "id": "fa80d036",
   "metadata": {},
   "outputs": [],
   "source": [
    "#Syntax for Lambda functions\n",
    "#Lambda keyword arguement: expression \n",
    "val_of_A = lambda a:print(a)"
   ]
  },
  {
   "cell_type": "code",
   "execution_count": 4,
   "id": "d2f78d31",
   "metadata": {},
   "outputs": [
    {
     "name": "stdout",
     "output_type": "stream",
     "text": [
      "3\n"
     ]
    }
   ],
   "source": [
    "val_of_A(3)"
   ]
  },
  {
   "cell_type": "code",
   "execution_count": 6,
   "id": "5211f062",
   "metadata": {},
   "outputs": [
    {
     "name": "stdout",
     "output_type": "stream",
     "text": [
      "a\n"
     ]
    }
   ],
   "source": [
    "val_of_A('a')"
   ]
  },
  {
   "cell_type": "code",
   "execution_count": 10,
   "id": "ca199bc2",
   "metadata": {},
   "outputs": [],
   "source": [
    "square = lambda x: x*x"
   ]
  },
  {
   "cell_type": "code",
   "execution_count": 8,
   "id": "9a8c4084",
   "metadata": {},
   "outputs": [],
   "source": [
    "#the same in normal function\n",
    "def square_num(x):\n",
    "    return x*x"
   ]
  },
  {
   "cell_type": "code",
   "execution_count": 11,
   "id": "36459cd6",
   "metadata": {},
   "outputs": [
    {
     "data": {
      "text/plain": [
       "25"
      ]
     },
     "execution_count": 11,
     "metadata": {},
     "output_type": "execute_result"
    }
   ],
   "source": [
    "square(5)"
   ]
  },
  {
   "cell_type": "code",
   "execution_count": 12,
   "id": "eb1cf5d3",
   "metadata": {},
   "outputs": [
    {
     "data": {
      "text/plain": [
       "25"
      ]
     },
     "execution_count": 12,
     "metadata": {},
     "output_type": "execute_result"
    }
   ],
   "source": [
    "square_num(5)"
   ]
  },
  {
   "cell_type": "markdown",
   "id": "a90671a0",
   "metadata": {},
   "source": [
    "# Using Lambda in user-defined functions"
   ]
  },
  {
   "cell_type": "code",
   "execution_count": 14,
   "id": "a9a9f2ee",
   "metadata": {},
   "outputs": [],
   "source": [
    "def call_lambda_func(x):\n",
    "    return(lambda y:x+y)"
   ]
  },
  {
   "cell_type": "code",
   "execution_count": 15,
   "id": "aeeb24d9",
   "metadata": {},
   "outputs": [],
   "source": [
    "z = call_lambda_func(4)"
   ]
  },
  {
   "cell_type": "code",
   "execution_count": 16,
   "id": "0377988f",
   "metadata": {},
   "outputs": [
    {
     "data": {
      "text/plain": [
       "<function __main__.call_lambda_func.<locals>.<lambda>(y)>"
      ]
     },
     "execution_count": 16,
     "metadata": {},
     "output_type": "execute_result"
    }
   ],
   "source": [
    "z"
   ]
  },
  {
   "cell_type": "code",
   "execution_count": 17,
   "id": "ef137935",
   "metadata": {},
   "outputs": [
    {
     "data": {
      "text/plain": [
       "10"
      ]
     },
     "execution_count": 17,
     "metadata": {},
     "output_type": "execute_result"
    }
   ],
   "source": [
    "z(6)"
   ]
  },
  {
   "cell_type": "markdown",
   "id": "df54d6c2",
   "metadata": {},
   "source": [
    "# Lambda using filter()"
   ]
  },
  {
   "cell_type": "code",
   "execution_count": null,
   "id": "bc3c9a33",
   "metadata": {},
   "outputs": [],
   "source": []
  },
  {
   "cell_type": "code",
   "execution_count": null,
   "id": "1f81ef25",
   "metadata": {},
   "outputs": [],
   "source": []
  }
 ],
 "metadata": {
  "kernelspec": {
   "display_name": "Python 3 (ipykernel)",
   "language": "python",
   "name": "python3"
  },
  "language_info": {
   "codemirror_mode": {
    "name": "ipython",
    "version": 3
   },
   "file_extension": ".py",
   "mimetype": "text/x-python",
   "name": "python",
   "nbconvert_exporter": "python",
   "pygments_lexer": "ipython3",
   "version": "3.9.12"
  }
 },
 "nbformat": 4,
 "nbformat_minor": 5
}
