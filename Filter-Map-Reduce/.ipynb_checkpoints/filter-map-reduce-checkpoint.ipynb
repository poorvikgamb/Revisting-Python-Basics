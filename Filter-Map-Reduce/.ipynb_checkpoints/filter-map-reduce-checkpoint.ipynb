{
 "cells": [
  {
   "cell_type": "markdown",
   "id": "8defef1d",
   "metadata": {},
   "source": [
    "# FILTER"
   ]
  },
  {
   "cell_type": "code",
   "execution_count": 1,
   "id": "69fa057d",
   "metadata": {},
   "outputs": [],
   "source": [
    "#returns element if true after performing specified operation on an iterable\n",
    "#Syntax - filter(function, iterable"
   ]
  },
  {
   "cell_type": "code",
   "execution_count": 2,
   "id": "bd54b9c0",
   "metadata": {},
   "outputs": [],
   "source": [
    "def if_multiple(x):\n",
    "    if x%5 == 0:\n",
    "        return x"
   ]
  },
  {
   "cell_type": "code",
   "execution_count": 3,
   "id": "c0105cc8",
   "metadata": {},
   "outputs": [],
   "source": [
    "y = [5,7,10,11,15]"
   ]
  },
  {
   "cell_type": "code",
   "execution_count": 5,
   "id": "7491049f",
   "metadata": {},
   "outputs": [
    {
     "name": "stdout",
     "output_type": "stream",
     "text": [
      "[5, 10, 15]\n"
     ]
    }
   ],
   "source": [
    "print(list(filter(if_multiple, y)))"
   ]
  },
  {
   "cell_type": "markdown",
   "id": "c24a944f",
   "metadata": {},
   "source": [
    "# MAP"
   ]
  },
  {
   "cell_type": "code",
   "execution_count": 6,
   "id": "87533e2b",
   "metadata": {},
   "outputs": [],
   "source": [
    "#applies the specified functions to all the elements of an iterable\n",
    "#Syntax - map(function, iterable)"
   ]
  },
  {
   "cell_type": "code",
   "execution_count": 7,
   "id": "aa2403aa",
   "metadata": {},
   "outputs": [],
   "source": [
    "def square(x):\n",
    "    return x*x"
   ]
  },
  {
   "cell_type": "code",
   "execution_count": 8,
   "id": "88669f15",
   "metadata": {},
   "outputs": [
    {
     "name": "stdout",
     "output_type": "stream",
     "text": [
      "<map object at 0x000001CC7BDA55E0>\n"
     ]
    }
   ],
   "source": [
    "print(map(square,y))"
   ]
  },
  {
   "cell_type": "code",
   "execution_count": 9,
   "id": "5301a9ed",
   "metadata": {},
   "outputs": [
    {
     "name": "stdout",
     "output_type": "stream",
     "text": [
      "[25, 49, 100, 121, 225]\n"
     ]
    }
   ],
   "source": [
    "print(list(map(square,y)))"
   ]
  },
  {
   "cell_type": "code",
   "execution_count": 16,
   "id": "7a649005",
   "metadata": {},
   "outputs": [],
   "source": [
    "z = [1,2,3,4,5]"
   ]
  },
  {
   "cell_type": "code",
   "execution_count": 14,
   "id": "bc394d0b",
   "metadata": {},
   "outputs": [],
   "source": [
    "def square_and_multiple(x,y):\n",
    "    return((x*x)*(y*y))"
   ]
  },
  {
   "cell_type": "code",
   "execution_count": 17,
   "id": "3af35bf5",
   "metadata": {},
   "outputs": [
    {
     "name": "stdout",
     "output_type": "stream",
     "text": [
      "[25, 196, 900, 1936, 5625]\n"
     ]
    }
   ],
   "source": [
    "#applying map to multiple iterables\n",
    "print(list(map(square_and_multiple,y,z)))"
   ]
  },
  {
   "cell_type": "markdown",
   "id": "ebebca94",
   "metadata": {},
   "source": [
    "# REDUCE"
   ]
  },
  {
   "cell_type": "code",
   "execution_count": 19,
   "id": "a4571de9",
   "metadata": {},
   "outputs": [],
   "source": [
    "#applies specified operation to an iterable and returns a single value\n",
    "#Syntax - reduce(function, iterable)\n",
    "#has to be imported from functools module"
   ]
  },
  {
   "cell_type": "code",
   "execution_count": 20,
   "id": "1d2edf50",
   "metadata": {},
   "outputs": [],
   "source": [
    "from functools import reduce"
   ]
  },
  {
   "cell_type": "code",
   "execution_count": 21,
   "id": "db38665c",
   "metadata": {},
   "outputs": [],
   "source": [
    "def add(x,y):\n",
    "    return x+y"
   ]
  },
  {
   "cell_type": "code",
   "execution_count": 22,
   "id": "b018c554",
   "metadata": {},
   "outputs": [
    {
     "name": "stdout",
     "output_type": "stream",
     "text": [
      "15\n"
     ]
    }
   ],
   "source": [
    "print(reduce(add,[1,2,3,4,5]))"
   ]
  },
  {
   "cell_type": "code",
   "execution_count": null,
   "id": "24960d2c",
   "metadata": {},
   "outputs": [],
   "source": []
  },
  {
   "cell_type": "code",
   "execution_count": null,
   "id": "51e4acea",
   "metadata": {},
   "outputs": [],
   "source": []
  },
  {
   "cell_type": "code",
   "execution_count": null,
   "id": "54382cb8",
   "metadata": {},
   "outputs": [],
   "source": []
  }
 ],
 "metadata": {
  "kernelspec": {
   "display_name": "Python 3 (ipykernel)",
   "language": "python",
   "name": "python3"
  },
  "language_info": {
   "codemirror_mode": {
    "name": "ipython",
    "version": 3
   },
   "file_extension": ".py",
   "mimetype": "text/x-python",
   "name": "python",
   "nbconvert_exporter": "python",
   "pygments_lexer": "ipython3",
   "version": "3.9.12"
  }
 },
 "nbformat": 4,
 "nbformat_minor": 5
}
